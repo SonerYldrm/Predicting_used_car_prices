{
 "cells": [
  {
   "cell_type": "code",
   "execution_count": 1,
   "metadata": {},
   "outputs": [],
   "source": [
    "#importing dependencies\n",
    "import pandas as pd\n",
    "import numpy as np\n",
    "import requests\n",
    "from bs4 import BeautifulSoup as bs"
   ]
  },
  {
   "cell_type": "code",
   "execution_count": 2,
   "metadata": {},
   "outputs": [],
   "source": [
    "headers = {'User-Agent':'Mozilla/5.0'}"
   ]
  },
  {
   "cell_type": "code",
   "execution_count": 8,
   "metadata": {},
   "outputs": [],
   "source": [
    "#empty lists to organize data based on class\n",
    "model_info = []\n",
    "ad_title = []\n",
    "year_km_color = [] #year, km, and color are listed under same class\n",
    "price = []\n",
    "ad_date = []\n",
    "location = []"
   ]
  },
  {
   "cell_type": "code",
   "execution_count": 4,
   "metadata": {},
   "outputs": [],
   "source": [
    "page_offset = list(np.arange(0,1000,50)) #parse through page 1 to 20"
   ]
  },
  {
   "cell_type": "code",
   "execution_count": 5,
   "metadata": {},
   "outputs": [],
   "source": [
    "min_km = [0, 50000, 85000, 119000, 153000, 190000, 230000] #filter cars based on km\n",
    "max_km = [50000, 85000, 119000, 153000, 190000, 230000, 500000] #filter cars based on km"
   ]
  },
  {
   "cell_type": "code",
   "execution_count": 9,
   "metadata": {},
   "outputs": [],
   "source": [
    "for i, j in zip(min_km, max_km):\n",
    "    for page in page_offset:\n",
    "        r = requests.get(f'https://www.sahibinden.com/volkswagen-polo?pagingOffset={page}&pagingSize=50&a4_max={j}&sorting=date_asc&a4_min={i}', headers=headers)\n",
    "        soup = bs(r.content,'lxml')\n",
    "        model_info += soup.find_all(\"td\",{\"class\":\"searchResultsTagAttributeValue\"})\n",
    "        ad_title += soup.find_all(\"td\",{\"class\":\"searchResultsTitleValue\"})\n",
    "        year_km_color += soup.find_all(\"td\",{\"class\":\"searchResultsAttributeValue\"})\n",
    "        price += soup.find_all(\"td\",{\"class\":\"searchResultsPriceValue\"})\n",
    "        ad_date += soup.find_all(\"td\",{\"class\":\"searchResultsDateValue\"})\n",
    "        location += soup.find_all(\"td\",{\"class\":\"searchResultsLocationValue\"})"
   ]
  },
  {
   "cell_type": "code",
   "execution_count": 10,
   "metadata": {},
   "outputs": [
    {
     "data": {
      "text/plain": [
       "6731"
      ]
     },
     "execution_count": 10,
     "metadata": {},
     "output_type": "execute_result"
    }
   ],
   "source": [
    "len(model_info) "
   ]
  },
  {
   "cell_type": "code",
   "execution_count": 11,
   "metadata": {},
   "outputs": [],
   "source": [
    "#just to get the text which is the information needed\n",
    "model_info_text = []\n",
    "for i in range(0,6731):\n",
    "    model_info_text.append(model_info[i].text)"
   ]
  },
  {
   "cell_type": "code",
   "execution_count": 12,
   "metadata": {},
   "outputs": [
    {
     "data": {
      "text/plain": [
       "6731"
      ]
     },
     "execution_count": 12,
     "metadata": {},
     "output_type": "execute_result"
    }
   ],
   "source": [
    "len(ad_title)"
   ]
  },
  {
   "cell_type": "code",
   "execution_count": 13,
   "metadata": {},
   "outputs": [],
   "source": [
    "ad_title_text = []\n",
    "for i in range(0,6731):\n",
    "    ad_title_text.append(ad_title[i].text)"
   ]
  },
  {
   "cell_type": "code",
   "execution_count": 14,
   "metadata": {},
   "outputs": [
    {
     "data": {
      "text/plain": [
       "6731"
      ]
     },
     "execution_count": 14,
     "metadata": {},
     "output_type": "execute_result"
    }
   ],
   "source": [
    "len(price)"
   ]
  },
  {
   "cell_type": "code",
   "execution_count": 15,
   "metadata": {},
   "outputs": [],
   "source": [
    "price_text = []\n",
    "for i in range(0,6731):\n",
    "    price_text.append(price[i].text)"
   ]
  },
  {
   "cell_type": "code",
   "execution_count": 16,
   "metadata": {},
   "outputs": [
    {
     "data": {
      "text/plain": [
       "6731"
      ]
     },
     "execution_count": 16,
     "metadata": {},
     "output_type": "execute_result"
    }
   ],
   "source": [
    "len(ad_date)"
   ]
  },
  {
   "cell_type": "code",
   "execution_count": 17,
   "metadata": {},
   "outputs": [],
   "source": [
    "ad_date_text = []\n",
    "for i in range(0,6731):\n",
    "    ad_date_text.append(ad_date[i].text)"
   ]
  },
  {
   "cell_type": "code",
   "execution_count": 18,
   "metadata": {},
   "outputs": [
    {
     "data": {
      "text/plain": [
       "6731"
      ]
     },
     "execution_count": 18,
     "metadata": {},
     "output_type": "execute_result"
    }
   ],
   "source": [
    "len(location)"
   ]
  },
  {
   "cell_type": "code",
   "execution_count": 19,
   "metadata": {},
   "outputs": [],
   "source": [
    "location_text = []\n",
    "for i in range(0,6731):\n",
    "    location_text.append(location[i].text)"
   ]
  },
  {
   "cell_type": "code",
   "execution_count": 20,
   "metadata": {},
   "outputs": [
    {
     "data": {
      "text/plain": [
       "20193"
      ]
     },
     "execution_count": 20,
     "metadata": {},
     "output_type": "execute_result"
    }
   ],
   "source": [
    "len(year_km_color)"
   ]
  },
  {
   "cell_type": "code",
   "execution_count": 21,
   "metadata": {},
   "outputs": [],
   "source": [
    "year_km_color_text = []\n",
    "for i in range(0,20193):\n",
    "    year_km_color_text.append(year_km_color[i].text)"
   ]
  },
  {
   "cell_type": "code",
   "execution_count": 22,
   "metadata": {},
   "outputs": [
    {
     "data": {
      "text/plain": [
       "['\\n                    2017',\n",
       " '\\n                    26.000',\n",
       " '\\n                    Beyaz',\n",
       " '\\n                    2018',\n",
       " '\\n                    11.000']"
      ]
     },
     "execution_count": 22,
     "metadata": {},
     "output_type": "execute_result"
    }
   ],
   "source": [
    "year_km_color_text[:5]"
   ]
  },
  {
   "cell_type": "code",
   "execution_count": 23,
   "metadata": {},
   "outputs": [],
   "source": [
    "year_text = year_km_color_text[::3] #every third element is year"
   ]
  },
  {
   "cell_type": "code",
   "execution_count": 24,
   "metadata": {},
   "outputs": [
    {
     "data": {
      "text/plain": [
       "'\\n                    2017'"
      ]
     },
     "execution_count": 24,
     "metadata": {},
     "output_type": "execute_result"
    }
   ],
   "source": [
    "year_km_color_text.pop(0) #remove the first element. Now every third element is km"
   ]
  },
  {
   "cell_type": "code",
   "execution_count": 25,
   "metadata": {},
   "outputs": [],
   "source": [
    "km_text = year_km_color_text[::3]"
   ]
  },
  {
   "cell_type": "code",
   "execution_count": 26,
   "metadata": {},
   "outputs": [
    {
     "data": {
      "text/plain": [
       "'\\n                    26.000'"
      ]
     },
     "execution_count": 26,
     "metadata": {},
     "output_type": "execute_result"
    }
   ],
   "source": [
    "year_km_color_text.pop(0)"
   ]
  },
  {
   "cell_type": "code",
   "execution_count": 27,
   "metadata": {},
   "outputs": [],
   "source": [
    "color_text = year_km_color_text[::3]"
   ]
  },
  {
   "cell_type": "code",
   "execution_count": 28,
   "metadata": {},
   "outputs": [
    {
     "name": "stdout",
     "output_type": "stream",
     "text": [
      "6731\n",
      "6731\n",
      "6731\n"
     ]
    }
   ],
   "source": [
    "print(len(year_text))\n",
    "print(len(km_text))\n",
    "print(len(color_text))"
   ]
  },
  {
   "cell_type": "code",
   "execution_count": 29,
   "metadata": {},
   "outputs": [],
   "source": [
    "df = pd.DataFrame({\"model\":model_info_text, \"ad_title\":ad_title_text,\n",
    "                   \"year\":year_text, \"km\":km_text, \"color\":color_text,\n",
    "                   \"price\":price_text, \"ad_date\":ad_date_text, \"location\":location_text})"
   ]
  },
  {
   "cell_type": "code",
   "execution_count": 30,
   "metadata": {},
   "outputs": [
    {
     "name": "stdout",
     "output_type": "stream",
     "text": [
      "(6731, 8)\n",
      "6293\n"
     ]
    }
   ],
   "source": [
    "print(df.shape)\n",
    "print(df['ad_title'].nunique())"
   ]
  },
  {
   "cell_type": "code",
   "execution_count": 31,
   "metadata": {},
   "outputs": [],
   "source": [
    "#save dataframe to csv file\n",
    "df.to_csv(r'C:\\Users\\soner\\Desktop\\Data_Science\\Projects\\predicting_used_cars_prices\\polo_data.csv', index=None, header=True)"
   ]
  },
  {
   "cell_type": "code",
   "execution_count": null,
   "metadata": {},
   "outputs": [],
   "source": []
  }
 ],
 "metadata": {
  "kernelspec": {
   "display_name": "Python 3",
   "language": "python",
   "name": "python3"
  },
  "language_info": {
   "codemirror_mode": {
    "name": "ipython",
    "version": 3
   },
   "file_extension": ".py",
   "mimetype": "text/x-python",
   "name": "python",
   "nbconvert_exporter": "python",
   "pygments_lexer": "ipython3",
   "version": "3.7.3"
  }
 },
 "nbformat": 4,
 "nbformat_minor": 2
}
